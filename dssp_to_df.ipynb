{
 "cells": [
  {
   "cell_type": "markdown",
   "id": "e2b50c1b",
   "metadata": {},
   "source": [
    "# The dssp_to_df sheet"
   ]
  },
  {
   "cell_type": "code",
   "execution_count": 1,
   "id": "d01831c5",
   "metadata": {},
   "outputs": [],
   "source": [
    "# Importing key libaries\n",
    "import numpy as np\n",
    "import pandas as pd\n",
    "import os"
   ]
  },
  {
   "cell_type": "code",
   "execution_count": 75,
   "id": "8a491b86",
   "metadata": {},
   "outputs": [
    {
     "data": {
      "text/html": [
       "<div>\n",
       "<style scoped>\n",
       "    .dataframe tbody tr th:only-of-type {\n",
       "        vertical-align: middle;\n",
       "    }\n",
       "\n",
       "    .dataframe tbody tr th {\n",
       "        vertical-align: top;\n",
       "    }\n",
       "\n",
       "    .dataframe thead th {\n",
       "        text-align: right;\n",
       "    }\n",
       "</style>\n",
       "<table border=\"1\" class=\"dataframe\">\n",
       "  <thead>\n",
       "    <tr style=\"text-align: right;\">\n",
       "      <th></th>\n",
       "      <th>chain</th>\n",
       "      <th>res_num</th>\n",
       "      <th>AA</th>\n",
       "      <th>ss</th>\n",
       "    </tr>\n",
       "  </thead>\n",
       "  <tbody>\n",
       "    <tr>\n",
       "      <th>0</th>\n",
       "      <td>A</td>\n",
       "      <td>2</td>\n",
       "      <td>MET</td>\n",
       "      <td>.</td>\n",
       "    </tr>\n",
       "    <tr>\n",
       "      <th>1</th>\n",
       "      <td>A</td>\n",
       "      <td>3</td>\n",
       "      <td>GLN</td>\n",
       "      <td>H</td>\n",
       "    </tr>\n",
       "    <tr>\n",
       "      <th>2</th>\n",
       "      <td>A</td>\n",
       "      <td>4</td>\n",
       "      <td>ALA</td>\n",
       "      <td>H</td>\n",
       "    </tr>\n",
       "    <tr>\n",
       "      <th>3</th>\n",
       "      <td>A</td>\n",
       "      <td>5</td>\n",
       "      <td>ALA</td>\n",
       "      <td>H</td>\n",
       "    </tr>\n",
       "    <tr>\n",
       "      <th>4</th>\n",
       "      <td>A</td>\n",
       "      <td>6</td>\n",
       "      <td>ARG</td>\n",
       "      <td>H</td>\n",
       "    </tr>\n",
       "  </tbody>\n",
       "</table>\n",
       "</div>"
      ],
      "text/plain": [
       "  chain  res_num   AA ss\n",
       "0     A        2  MET  .\n",
       "1     A        3  GLN  H\n",
       "2     A        4  ALA  H\n",
       "3     A        5  ALA  H\n",
       "4     A        6  ARG  H"
      ]
     },
     "execution_count": 75,
     "metadata": {},
     "output_type": "execute_result"
    }
   ],
   "source": [
    "# loading data frame removing min amount of row and cols\n",
    "# [\"chain_num\", \"res_num\", \"AA\", \"ss\", \"kappa helix\", \"3-10 helix\", \"alpha helix\", \"pi helix\", \"geometrical bend\", \"chirality_1\", \"chirality_2\" \"beta bridge label\", \"beta bridge label\", \"BP1\", \"BP2\",  \"ACC\", \"N-H-->O\", \"O-->H-N\", \"N-H-->O\", \"O-->H-N\", \"TCO\", \"KAPPA\", \"ALPHA\", \"PHI\", \"PSI\", \"X-CA\", \"Y-CA\",\"Z-CA\" ]\n",
    "col_lst = list(range(1, 5))\n",
    "name_lst = [\"chain\", \"res_num\", \"AA\", \"ss\", \"kappa helix\", \"3-10 helix\", \"alpha helix\", \n",
    "            \"pi helix\", \"geometrical bend\", \"chirality_1\", \"chirality_2\" \"beta bridge label\",\n",
    "            \"beta bridge label\", \"BP1\", \"BP2\",  \"ACC\", \"N-H-->O\", \"O-->H-N\", \"N-H-->O\",\n",
    "            \"O-->H-N\", \"TCO\", \"KAPPA\", \"ALPHA\", \"PHI\", \"PSI\", \"X-CA\", \"Y-CA\",\"Z-CA\" ]\n",
    "name_lst = name_lst[0:len(col_lst)]\n",
    "df = pd.read_csv(\"5b04.cif\", sep = \" \", skiprows = 38428, skipinitialspace = True, \n",
    "    header = None, usecols = col_lst, skipfooter = 1, engine='python')\n",
    "df[2] = df[2].astype(int)\n",
    "df = df.set_axis(name_lst, axis=1)\n",
    "df.head()"
   ]
  },
  {
   "cell_type": "code",
   "execution_count": 3,
   "id": "1681ecf2",
   "metadata": {},
   "outputs": [
    {
     "name": "stdout",
     "output_type": "stream",
     "text": [
      " Volume in drive C is Windows\n",
      " Volume Serial Number is 4632-2130\n",
      "\n",
      " Directory of C:\\Users\\hwbst6\\DataTime\\dssp_to_df\n",
      "\n",
      "20/03/2024  09:15    <DIR>          .\n",
      "20/03/2024  09:15    <DIR>          ..\n",
      "20/03/2024  09:07    <DIR>          .ipynb_checkpoints\n",
      "20/03/2024  09:03         3,410,100 5bo4.cif\n",
      "20/03/2024  09:15             1,961 dssp_to_df.ipynb\n",
      "               2 File(s)      3,412,061 bytes\n",
      "               3 Dir(s)  75,762,929,664 bytes free\n"
     ]
    }
   ],
   "source": [
    "ls"
   ]
  },
  {
   "cell_type": "code",
   "execution_count": null,
   "id": "ad01fde7",
   "metadata": {},
   "outputs": [],
   "source": []
  }
 ],
 "metadata": {
  "kernelspec": {
   "display_name": "Python 3 (ipykernel)",
   "language": "python",
   "name": "python3"
  },
  "language_info": {
   "codemirror_mode": {
    "name": "ipython",
    "version": 3
   },
   "file_extension": ".py",
   "mimetype": "text/x-python",
   "name": "python",
   "nbconvert_exporter": "python",
   "pygments_lexer": "ipython3",
   "version": "3.9.13"
  }
 },
 "nbformat": 4,
 "nbformat_minor": 5
}
